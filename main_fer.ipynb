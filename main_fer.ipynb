{
 "cells": [
  {
   "cell_type": "code",
   "execution_count": null,
   "metadata": {},
   "outputs": [],
   "source": [
    "import pandas as pd\n",
    "import os\n",
    "import re\n",
    "\n",
    "path = \"resources/Tablas_elecciones_barrio/\"\n",
    "files = \"\"\n",
    "tables = []\n"
   ]
  },
  {
   "cell_type": "code",
   "execution_count": null,
   "metadata": {},
   "outputs": [],
   "source": [
    "# Cargar los nombre de todos los archivos almacenados dentro de la carpeta \"resources/Tablas_elecciones_barrio/\"\n",
    "for r, d, f in os.walk(path):\n",
    "    files = f\n",
    "# lectura y limpieza de las 21 tablas. Resultado: una lista de 21 tablas\n",
    "for file in files:\n",
    "    tmp_table = pd.read_excel(path + '{0}'.format(file), \n",
    "                              sep=\";\", encoding=\"ISO-8859-1\")\n",
    "    tmp_table.columns = [i.strip().replace(' ','_') for i in tmp_table.columns]\n",
    "    tmp_table['Distrito'] = re.sub(\" \", \"\", re.sub(\"^[0-9]+(\\.)(\\s)\", \"\", tmp_table.Barrio[0].upper()))\n",
    "#     print(re.sub(\" \", \"\",re.sub(\"^[0-9]+(\\.)(\\s)\", \"\", tmp_table.Barrio[0].upper())))\n",
    "    tmp_table.drop([0,1], inplace=True) \n",
    "    for i in range(0, len(tmp_table.Barrio)):\n",
    "        tmp_table.iloc[i,0] = re.sub(\"[0-9]+(\\.)(\\s)\", \"\", str.strip(tmp_table.iloc[i,0].upper()))\n",
    "    \n",
    "    tables.append(tmp_table)\n",
    "\n",
    "# Se concatenan las 21 tablas en una sola\n",
    "main_table_elecciones = pd.concat(tables, sort=False)\n",
    "\n",
    "# Se unifica el index para toda la tabla\n",
    "main_table_elecciones.reset_index(drop=True, inplace=True)    \n",
    "main_table_elecciones.head(10)\n"
   ]
  },
  {
   "cell_type": "code",
   "execution_count": null,
   "metadata": {},
   "outputs": [],
   "source": [
    "import pandas as pd\n",
    "\n",
    "\n",
    "# Cargar la tabla del Padron por barrios\n",
    "padron = pd.read_excel(\"resources/padron_barrios.xls\")\n"
   ]
  },
  {
   "cell_type": "code",
   "execution_count": null,
   "metadata": {},
   "outputs": [],
   "source": [
    "# Limpieza y organización de la tabla\n",
    "tmp = []\n",
    "separador_tabla = 0\n",
    "for i in range(0, len(padron.Españoles_Hombres)):\n",
    "    if pd.isna(padron.Españoles_Hombres[i]):\n",
    "        dis_bar = padron.Edad[i].replace(\" \", \"\").split(\"/\")\n",
    "        for j in  range(i+1, len(padron.Españoles_Hombres)):\n",
    "            if pd.isna(padron.Españoles_Hombres[j]):\n",
    "                tmp.append(padron.iloc[i:j,].copy(deep=True))\n",
    "                tmp[separador_tabla].drop([i,i+1], inplace=True) \n",
    "                tmp[separador_tabla]['Distrito'] = dis_bar[0]\n",
    "                tmp[separador_tabla]['Barrio'] = dis_bar[1].strip()\n",
    "                break\n",
    "        separador_tabla += 1\n",
    "\n",
    "main_table_padron = pd.concat(tmp)\n",
    "main_table_padron.Barrio = [str.strip(i) for i in main_table_padron.Barrio]\n",
    "main_table_padron.reset_index(drop=True, inplace=True)\n",
    "main_table_padron.head(50)"
   ]
  }
 ],
 "metadata": {
  "kernelspec": {
   "display_name": "Python 3",
   "language": "python",
   "name": "python3"
  },
  "language_info": {
   "codemirror_mode": {
    "name": "ipython",
    "version": 3
   },
   "file_extension": ".py",
   "mimetype": "text/x-python",
   "name": "python",
   "nbconvert_exporter": "python",
   "pygments_lexer": "ipython3",
   "version": "3.7.1"
  }
 },
 "nbformat": 4,
 "nbformat_minor": 2
}
